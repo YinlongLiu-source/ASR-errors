{
 "cells": [
  {
   "cell_type": "code",
   "execution_count": 5,
   "metadata": {},
   "outputs": [],
   "source": [
    "import textstat\n",
    "import pandas as pd"
   ]
  },
  {
   "cell_type": "code",
   "execution_count": 64,
   "metadata": {},
   "outputs": [],
   "source": [
    "def textstat_analysis(text):\n",
    "    # 计算音节数\n",
    "    syllable_count = textstat.syllable_count(text)\n",
    "    # 计算词汇数（词的数量）\n",
    "    lexicon_count = textstat.lexicon_count(text, removepunct=True)\n",
    "    # 计算难词数（多音节单词数）\n",
    "    difficult_words = textstat.difficult_words(text)\n",
    "    #计算易读度\n",
    "    flesch_reading_ease = textstat.flesch_reading_ease(text)\n",
    "    # 计算句子数\n",
    "    sentence_count = textstat.sentence_count(text)\n",
    "    # print(f\"Syllable Count: {syllable_count}\")\n",
    "    # print(f\"Lexicon Count: {lexicon_count}\")\n",
    "    # print(f\"Difficult Words: {difficult_words}\")\n",
    "    # print(f\"Flesch Reading Ease: {flesch_reading_ease}\")\n",
    "    # print(f\"Sentence Count: {sentence_count}\")\n",
    "    return syllable_count, lexicon_count, difficult_words, flesch_reading_ease, sentence_count\n",
    "def cal_mean_std(data):\n",
    "    # if len(data) == 0:\n",
    "    #     return 0, 0\n",
    "    # else:\n",
    "    #     mean = sum(data) / len(data)\n",
    "    #     std = (sum([(i - mean) ** 2 for i in data]) / len(data)) ** 0.5\n",
    "    #     return mean, std\n",
    "    mean = sum(data) / len(data)\n",
    "    std = (sum([(i - mean) ** 2 for i in data]) / len(data)) ** 0.5\n",
    "    return round(mean,2), round(std,2)\n",
    "\n",
    "def t_test_p(text_list1,text_list2):\n",
    "    # 进行独立样本 t 检验或非参数检验（Mann-Whitney U 检验）\n",
    "    stat, p_value = stats.ttest_ind(lexicon_counts_1, lexicon_counts_2)\n",
    "    print(f\"Original p-value from t-test: {p_value}\")\n",
    "\n",
    "    # 假设有多个比较或检验的 p 值（可以自行添加其他 p 值）\n",
    "    p_values = [p_value, 0.03, 0.05, 0.06] # 添加多个假设的 p 值\n",
    "\n",
    "    # 使用 Benjamini-Hochberg 校正 p 值\n",
    "    adjusted_p_values = multitest.multipletests(p_values, method='fdr_bh')[1]\n",
    "\n",
    "    # 打印校正后的 p 值\n",
    "    print(f\"Adjusted p-values (Benjamini-Hochberg correction): {adjusted_p_values}\")\n",
    "    \n",
    "def textstat_analysis_cal_mean_std(text_list):\n",
    "    syllable_count_list = []\n",
    "    lexicon_count_list = []\n",
    "    difficult_words_list = []\n",
    "    flesch_reading_ease_list = []\n",
    "    sentence_count_list = []\n",
    "    for text in text_list:\n",
    "        syllable_count, lexicon_count, difficult_words, flesch_reading_ease, sentence_count = textstat_analysis(text)\n",
    "        syllable_count_list.append(syllable_count)\n",
    "        lexicon_count_list.append(lexicon_count)\n",
    "        difficult_words_list.append(difficult_words)\n",
    "        flesch_reading_ease_list.append(flesch_reading_ease)\n",
    "        sentence_count_list.append(sentence_count)\n",
    "    syllable_count_mean, syllable_count_std = cal_mean_std(syllable_count_list)\n",
    "    lexicon_count_mean, lexicon_count_std = cal_mean_std(lexicon_count_list)\n",
    "    difficult_words_mean, difficult_words_std = cal_mean_std(difficult_words_list)\n",
    "    flesch_reading_ease_mean, flesch_reading_ease_std = cal_mean_std(flesch_reading_ease_list)\n",
    "    sentence_count_mean, sentence_count_std = cal_mean_std(sentence_count_list)\n",
    "    # print(f\"Syllable Count Mean: {syllable_count_mean}, Syllable Count Std: {syllable_count_std}\")\n",
    "    # print(f\"Lexicon Count Mean: {lexicon_count_mean}, Lexicon Count Std: {lexicon_count_std}\")\n",
    "    # print(f\"Difficult Words Mean: {difficult_words_mean}, Difficult Words Std: {difficult_words_std}\")\n",
    "    # print(f\"Flesch Reading Ease Mean: {flesch_reading_ease_mean}, Flesch Reading Ease Std: {flesch_reading_ease_std}\")\n",
    "    # print(f\"Sentence Count Mean: {sentence_count_mean}, Sentence Count Std: {sentence_count_std}\")\n",
    "    return f'{syllable_count_mean} ({syllable_count_std})', f'{lexicon_count_mean} ({lexicon_count_std})', f'{difficult_words_mean} ({difficult_words_std})', f'{flesch_reading_ease_mean} ({flesch_reading_ease_std})', f'{sentence_count_mean} ({sentence_count_std})'"
   ]
  },
  {
   "cell_type": "code",
   "execution_count": 65,
   "metadata": {},
   "outputs": [
    {
     "name": "stdout",
     "output_type": "stream",
     "text": [
      "78\n",
      "78\n"
     ]
    }
   ],
   "source": [
    "manual_trans={'ad':[],'hc':[]}\n",
    "ASR_trans={'ad':[],'hc':[]}\n",
    "manual_train_path = '/mnt/hd/data_lyl/projects/LLMEmbed/error_analysis/manual_trans/train_manual.csv'\n",
    "manual_test_path = '/mnt/hd/data_lyl/projects/LLMEmbed/error_analysis/manual_trans/test_manual.csv'\n",
    "ASR_train_path = '/mnt/hd/data_lyl/projects/LLMEmbed/error_analysis/whisper_large_original_trans/train_chas_A.csv'\n",
    "ASR_test_path = '/mnt/hd/data_lyl/projects/LLMEmbed/error_analysis/whisper_large_original_trans/test_chas_A.csv'\n",
    "manual_train_data = pd.read_csv(manual_train_path)\n",
    "manual_test_data = pd.read_csv(manual_test_path)\n",
    "manual_data=pd.concat([manual_train_data,manual_test_data])\n",
    "ASR_train_data = pd.read_csv(ASR_train_path)\n",
    "ASR_test_data = pd.read_csv(ASR_test_path)\n",
    "ASR_data=pd.concat([ASR_train_data,ASR_test_data])\n",
    "#将数据按照ad和hc分开\n",
    "for index, row in manual_data.iterrows():\n",
    "    if row['ad'] == 0:\n",
    "        manual_trans['hc'].append(row['joined_all_par_trans'])\n",
    "    elif row['ad'] == 1:\n",
    "        manual_trans['ad'].append(row['joined_all_par_trans'])\n",
    "for index, row in ASR_data.iterrows():\n",
    "    if row['ad'] == 0:\n",
    "        ASR_trans['hc'].append(row['joined_all_par_trans'])\n",
    "    elif row['ad'] == 1:\n",
    "        ASR_trans['ad'].append(row['joined_all_par_trans'])\n",
    "print(len(ASR_trans['ad']))\n",
    "print(len(ASR_trans['hc']))"
   ]
  },
  {
   "cell_type": "code",
   "execution_count": 66,
   "metadata": {},
   "outputs": [
    {
     "name": "stdout",
     "output_type": "stream",
     "text": [
      "['asr', 'hc / ad', '128.56 (79.41) / 95.24 (59.58)', '102.88 (65.7) / 79.42 (50.55)', '9.26 (4.05) / 5.24 (3.52)', '91.05 (5.33) / 96.72 (6.66)', '11.33 (5.85) / 10.0 (6.62)']\n",
      "['manual', 'hc / ad', '142.81 (79.13) / 115.31 (72.46)', '114.24 (66.16) / 96.21 (61.77)', '10.73 (3.69) / 6.64 (3.5)', '89.81 (4.89) / 96.05 (5.94)', '12.08 (5.5) / 11.05 (6.15)']\n"
     ]
    }
   ],
   "source": [
    "hc_syllable,hc_lexicon,hc_difficult,hc_flesch,hc_sentence=textstat_analysis_cal_mean_std(ASR_trans['hc'])\n",
    "ad_syllable,ad_lexicon,ad_difficult,ad_flesch,ad_sentence=textstat_analysis_cal_mean_std(ASR_trans['ad'])\n",
    "asr_text_statistics=['asr','hc / ad', f'{hc_syllable} / {ad_syllable}',f'{hc_lexicon} / {ad_lexicon}',f'{hc_difficult} / {ad_difficult}',f'{hc_flesch} / {ad_flesch}',f'{hc_sentence} / {ad_sentence}']\n",
    "print(asr_text_statistics)\n",
    "\n",
    "hc_syllable,hc_lexicon,hc_difficult,hc_flesch,hc_sentence=textstat_analysis_cal_mean_std(manual_trans['hc'])\n",
    "ad_syllable,ad_lexicon,ad_difficult,ad_flesch,ad_sentence=textstat_analysis_cal_mean_std(manual_trans['ad'])\n",
    "manual_text_statistics=['manual','hc / ad', f'{hc_syllable} / {ad_syllable}',f'{hc_lexicon} / {ad_lexicon}',f'{hc_difficult} / {ad_difficult}',f'{hc_flesch} / {ad_flesch}',f'{hc_sentence} / {ad_sentence}']\n",
    "print(manual_text_statistics)\n",
    "\n"
   ]
  },
  {
   "cell_type": "code",
   "execution_count": 67,
   "metadata": {},
   "outputs": [
    {
     "name": "stdout",
     "output_type": "stream",
     "text": [
      "数据已写入 whisper_large_original_text_statistics.csv\n"
     ]
    }
   ],
   "source": [
    "import csv\n",
    "# 指定 CSV 文件名\n",
    "filename = 'whisper_large_original_text_statistics.csv'\n",
    "# 定义列名\n",
    "columns = ['Source', 'Comparison', 'Syllable Count', 'Lexicon Count', 'Difficult Words', 'Flesch Reading Ease', 'Sentence Count']\n",
    "# 打开文件，准备写入\n",
    "with open(filename, 'w', newline='') as csvfile:\n",
    "    # 创建 CSV 写入器\n",
    "    csvwriter = csv.writer(csvfile)\n",
    "    # 遍历两个列表的索引\n",
    "    for i in range(len(asr_text_statistics)):\n",
    "        # 写入一行数据，包括两个列表的对应元素\n",
    "        csvwriter.writerow([columns[i], manual_text_statistics[i], asr_text_statistics[i]])\n",
    "        \n",
    "print(f\"数据已写入 {filename}\")"
   ]
  },
  {
   "cell_type": "code",
   "execution_count": 68,
   "metadata": {},
   "outputs": [
    {
     "name": "stdout",
     "output_type": "stream",
     "text": [
      "Lexicon counts for corpus 1: [5, 4, 3]\n",
      "Lexicon counts for corpus 2: [5, 3, 3]\n",
      "Original p-value from t-test: 0.7246586364960954\n",
      "Adjusted p-values (Benjamini-Hochberg correction): [0.72465864 0.08       0.08       0.08      ]\n",
      "Not all differences are significant at p < 0.05 after Benjamini-Hochberg correction.\n"
     ]
    }
   ],
   "source": [
    "import textstat\n",
    "from scipy import stats\n",
    "import statsmodels.stats.multitest as multitest\n",
    "\n",
    "# 两个语料库的示例\n",
    "corpus1 = [\"This is the first sentence.\", \"Here is another example.\", \"Text data one.\"]\n",
    "corpus2 = [\"Another sentence for corpus two.\", \"Yet another example.\", \"Text data two.\"]\n",
    "\n",
    "# 计算每个语料库中的文本词汇数\n",
    "lexicon_counts_1 = [textstat.lexicon_count(text, removepunct=True) for text in corpus1]\n",
    "lexicon_counts_2 = [textstat.lexicon_count(text, removepunct=True) for text in corpus2]\n",
    "\n",
    "# 打印 lexicon counts\n",
    "print(\"Lexicon counts for corpus 1:\", lexicon_counts_1)\n",
    "print(\"Lexicon counts for corpus 2:\", lexicon_counts_2)\n",
    "\n",
    "# 对每一组词汇数量执行独立样本 t 检验，得到 p 值\n",
    "stat, p_value = stats.ttest_ind(lexicon_counts_1, lexicon_counts_2)\n",
    "print(f\"Original p-value from t-test: {p_value}\")\n",
    "\n",
    "# 假设有多个比较或检验的 p 值（可以自行添加其他 p 值）\n",
    "p_values = [p_value, 0.03, 0.05, 0.06] # 添加多个假设的 p 值\n",
    "\n",
    "# 使用 Benjamini-Hochberg 校正 p 值\n",
    "adjusted_p_values = multitest.multipletests(p_values, method='fdr_bh')[1]\n",
    "\n",
    "# 打印校正后的 p 值\n",
    "print(f\"Adjusted p-values (Benjamini-Hochberg correction): {adjusted_p_values}\")\n",
    "\n",
    "# 判断所有校正后的 p 值是否都小于 0.05\n",
    "all_significant = all(p < 0.05 for p in adjusted_p_values)\n",
    "\n",
    "if all_significant:\n",
    "    print(\"All differences are significant at p < 0.05 after Benjamini-Hochberg correction.\")\n",
    "else:\n",
    "    print(\"Not all differences are significant at p < 0.05 after Benjamini-Hochberg correction.\")\n"
   ]
  },
  {
   "cell_type": "code",
   "execution_count": 69,
   "metadata": {},
   "outputs": [],
   "source": [
    "def t_test_p(text_list1,text_list2):\n",
    "    # 进行独立样本 t 检验或非参数检验（Mann-Whitney U 检验）\n",
    "    stat, p_value = stats.ttest_ind(text_list1,text_list2)\n",
    "    print(f\"Original p-value from t-test: {p_value}\")\n",
    "\n",
    "    # # 假设有多个比较或检验的 p 值（可以自行添加其他 p 值） \n",
    "    # #这里只有一次检验，多个检验解决的是实际采集数据时候可能数据不一致的问题，\n",
    "    # 然而这里的各种text_analysis函数是一次性计算的,是固定的\n",
    "    # p_values = [p_value,0.06] # 添加多个假设的 p 值\n",
    "\n",
    "    # # 使用 Benjamini-Hochberg 校正 p 值\n",
    "    # adjusted_p_values = multitest.multipletests(p_values, method='fdr_bh')[1]\n",
    "\n",
    "    # # 打印校正后的 p 值\n",
    "    # print(f\"Adjusted p-values (Benjamini-Hochberg correction): {adjusted_p_values}\")\n",
    "    # # for i in adjusted_p_values:\n",
    "    # #     print(i)\n",
    "    # all_significant = all(p < 0.05 for p in adjusted_p_values)\n",
    "    # if all_significant:\n",
    "    #     print(\"All differences are significant at p < 0.05 after Benjamini-Hochberg correction.\")\n",
    "    # else:\n",
    "    #     print(\"Not all differences are significant at p < 0.05 after Benjamini-Hochberg correction.\")\n",
    "    if p_value<0.05:\n",
    "        print(\"All differences are significant at p < 0.05 after Benjamini-Hochberg correction.\")\n",
    "    else:\n",
    "        print(\"Not all differences are significant at p < 0.05 after Benjamini-Hochberg correction.\")"
   ]
  },
  {
   "cell_type": "code",
   "execution_count": 72,
   "metadata": {},
   "outputs": [
    {
     "name": "stdout",
     "output_type": "stream",
     "text": [
      "manual_trans\n",
      "syllable_count_list\n",
      "Original p-value from t-test: 0.02593410441143166\n",
      "All differences are significant at p < 0.05 after Benjamini-Hochberg correction.\n",
      "lexicon_count_list\n",
      "Original p-value from t-test: 0.08230438401220479\n",
      "Not all differences are significant at p < 0.05 after Benjamini-Hochberg correction.\n",
      "difficult_words_list\n",
      "Original p-value from t-test: 5.241775691646573e-11\n",
      "All differences are significant at p < 0.05 after Benjamini-Hochberg correction.\n",
      "flesch_reading_ease_list\n",
      "Original p-value from t-test: 3.930076069282276e-11\n",
      "All differences are significant at p < 0.05 after Benjamini-Hochberg correction.\n",
      "sentence_count_list\n",
      "Original p-value from t-test: 0.2770393816973863\n",
      "Not all differences are significant at p < 0.05 after Benjamini-Hochberg correction.\n",
      "ASR_trans\n",
      "syllable_count_list\n",
      "Original p-value from t-test: 0.0037291956501564355\n",
      "All differences are significant at p < 0.05 after Benjamini-Hochberg correction.\n",
      "lexicon_count_list\n",
      "Original p-value from t-test: 0.014083445030309078\n",
      "All differences are significant at p < 0.05 after Benjamini-Hochberg correction.\n",
      "difficult_words_list\n",
      "Original p-value from t-test: 7.835289707653077e-10\n",
      "All differences are significant at p < 0.05 after Benjamini-Hochberg correction.\n",
      "flesch_reading_ease_list\n",
      "Original p-value from t-test: 2.9775107027140333e-08\n",
      "All differences are significant at p < 0.05 after Benjamini-Hochberg correction.\n",
      "sentence_count_list\n",
      "Original p-value from t-test: 0.18726165301686554\n",
      "Not all differences are significant at p < 0.05 after Benjamini-Hochberg correction.\n"
     ]
    }
   ],
   "source": [
    "\n",
    "def t_test_asr_manual(trans):\n",
    "    text_analysis={'syllable_count_list':[],'lexicon_count_list':[],'difficult_words_list':[],'flesch_reading_ease_list':[],'sentence_count_list':[]}\n",
    "    for label in ['hc','ad']:\n",
    "        syllable_count_list = []\n",
    "        lexicon_count_list = []\n",
    "        difficult_words_list = []\n",
    "        flesch_reading_ease_list = []\n",
    "        sentence_count_list = []\n",
    "        for text in trans[label]:\n",
    "            syllable_count, lexicon_count, difficult_words, flesch_reading_ease, sentence_count = textstat_analysis(text)\n",
    "            syllable_count_list.append(syllable_count)\n",
    "            lexicon_count_list.append(lexicon_count)\n",
    "            difficult_words_list.append(difficult_words)\n",
    "            flesch_reading_ease_list.append(flesch_reading_ease)\n",
    "            sentence_count_list.append(sentence_count)\n",
    "        text_analysis['syllable_count_list'].append(syllable_count_list)\n",
    "        text_analysis['lexicon_count_list'].append(lexicon_count_list)\n",
    "        text_analysis['difficult_words_list'].append(difficult_words_list)\n",
    "        text_analysis['flesch_reading_ease_list'].append(flesch_reading_ease_list)\n",
    "        text_analysis['sentence_count_list'].append(sentence_count_list)\n",
    "    # 进行独立样本 t 检验或非参数检验（Mann-Whitney U 检验）\n",
    "    for key in text_analysis.keys():\n",
    "        print(key)\n",
    "        t_test_p(text_analysis[key][0],text_analysis[key][1])\n",
    "    # print(text_analysis['syllable_count_list'])\n",
    "    # print(text_analysis['lexicon_count_list'])\n",
    "print('manual_trans')\n",
    "t_test_asr_manual(manual_trans)\n",
    "print('ASR_trans')\n",
    "t_test_asr_manual(ASR_trans)\n",
    "    "
   ]
  },
  {
   "cell_type": "code",
   "execution_count": 13,
   "metadata": {},
   "outputs": [
    {
     "name": "stdout",
     "output_type": "stream",
     "text": [
      "ASR vs Manual\n",
      "ad\n"
     ]
    },
    {
     "name": "stdout",
     "output_type": "stream",
     "text": [
      "syllable_count_list\n",
      "Original p-value from t-test: 0.46035383779091044\n",
      "Not all differences are significant at p < 0.05 after Benjamini-Hochberg correction.\n",
      "lexicon_count_list\n",
      "Original p-value from t-test: 0.3089416583272386\n",
      "Not all differences are significant at p < 0.05 after Benjamini-Hochberg correction.\n",
      "difficult_words_list\n",
      "Original p-value from t-test: 0.00131197978409272\n",
      "All differences are significant at p < 0.05 after Benjamini-Hochberg correction.\n",
      "flesch_reading_ease_list\n",
      "Original p-value from t-test: 0.20672489029078875\n",
      "Not all differences are significant at p < 0.05 after Benjamini-Hochberg correction.\n",
      "sentence_count_list\n",
      "Original p-value from t-test: 0.561270816382501\n",
      "Not all differences are significant at p < 0.05 after Benjamini-Hochberg correction.\n",
      "hc\n",
      "syllable_count_list\n",
      "Original p-value from t-test: 0.580329108379396\n",
      "Not all differences are significant at p < 0.05 after Benjamini-Hochberg correction.\n",
      "lexicon_count_list\n",
      "Original p-value from t-test: 0.5671261023127242\n",
      "Not all differences are significant at p < 0.05 after Benjamini-Hochberg correction.\n",
      "difficult_words_list\n",
      "Original p-value from t-test: 0.002007669777182265\n",
      "All differences are significant at p < 0.05 after Benjamini-Hochberg correction.\n",
      "flesch_reading_ease_list\n",
      "Original p-value from t-test: 0.3274485324756239\n",
      "Not all differences are significant at p < 0.05 after Benjamini-Hochberg correction.\n",
      "sentence_count_list\n",
      "Original p-value from t-test: 0.6427666181311982\n",
      "Not all differences are significant at p < 0.05 after Benjamini-Hochberg correction.\n"
     ]
    }
   ],
   "source": [
    "ASR_manual={'ad':{'asr':ASR_trans['ad'],'manual':manual_trans['ad']},'hc':{'asr':ASR_trans['hc'],'manual':manual_trans['hc']}}\n",
    "def t_test_asr_manual_1(trans):\n",
    "    text_analysis={'syllable_count_list':[],'lexicon_count_list':[],'difficult_words_list':[],'flesch_reading_ease_list':[],'sentence_count_list':[]}\n",
    "    for label in ['asr','manual']:\n",
    "        syllable_count_list = []\n",
    "        lexicon_count_list = []\n",
    "        difficult_words_list = []\n",
    "        flesch_reading_ease_list = []\n",
    "        sentence_count_list = []\n",
    "        for text in trans[label]:\n",
    "            syllable_count, lexicon_count, difficult_words, flesch_reading_ease, sentence_count = textstat_analysis(text)\n",
    "            syllable_count_list.append(syllable_count)\n",
    "            lexicon_count_list.append(lexicon_count)\n",
    "            difficult_words_list.append(difficult_words)\n",
    "            flesch_reading_ease_list.append(flesch_reading_ease)\n",
    "            sentence_count_list.append(sentence_count)\n",
    "        text_analysis['syllable_count_list'].append(syllable_count_list)\n",
    "        text_analysis['lexicon_count_list'].append(lexicon_count_list)\n",
    "        text_analysis['difficult_words_list'].append(difficult_words_list)\n",
    "        text_analysis['flesch_reading_ease_list'].append(flesch_reading_ease_list)\n",
    "        text_analysis['sentence_count_list'].append(sentence_count_list)\n",
    "    # 进行独立样本 t 检验或非参数检验（Mann-Whitney U 检验）\n",
    "    for key in text_analysis.keys():\n",
    "        print(key)\n",
    "        t_test_p(text_analysis[key][0],text_analysis[key][1])\n",
    "    # print(text_analysis['syllable_count_list'])\n",
    "    # print(text_analysis['lexicon_count_list'])\n",
    "print('ASR vs Manual')  \n",
    "print('ad')  \n",
    "t_test_asr_manual_1(ASR_manual['ad'])\n",
    "print('hc')\n",
    "t_test_asr_manual_1(ASR_manual['hc'])\n",
    "    "
   ]
  },
  {
   "cell_type": "markdown",
   "metadata": {},
   "source": [
    "#cal Jaccard’s index J(P,C)= |P ∩ C|/|P ∪ C|"
   ]
  },
  {
   "cell_type": "code",
   "execution_count": 14,
   "metadata": {},
   "outputs": [
    {
     "name": "stdout",
     "output_type": "stream",
     "text": [
      "Hello world This is a test sentence\n"
     ]
    }
   ],
   "source": [
    "import re\n",
    "\n",
    "def remove_punctuation(text):\n",
    "    # 使用正则表达式去除标点符号\n",
    "    return re.sub(r'[^\\w\\s]', '', text)\n",
    "\n",
    "# 示例文本\n",
    "text = \"Hello, world! ...This is a test sentence.\"\n",
    "clean_text = remove_punctuation(text)\n",
    "\n",
    "print(clean_text)"
   ]
  },
  {
   "cell_type": "code",
   "execution_count": 15,
   "metadata": {},
   "outputs": [
    {
     "name": "stdout",
     "output_type": "stream",
     "text": [
      "Manual AD vs. HC Jaccard Similarity: 0.4042\n",
      "ASR AD vs. HC Jaccard Similarity: 0.3434\n"
     ]
    }
   ],
   "source": [
    "#提取一句话中的单词\n",
    "import re\n",
    "def extract_words(text):\n",
    "    if type(text) == str:\n",
    "        words = re.findall(r'\\b\\w+\\b', text)\n",
    "        return words\n",
    "    elif type(text) == list:\n",
    "        words_list = []\n",
    "        for t in text:\n",
    "            words = re.findall(r'\\b\\w+\\b', remove_punctuation(t))\n",
    "            words_list.extend(words)\n",
    "        return set(words_list)\n",
    "manual_words={'ad':[],'hc':[]}\n",
    "ASR_words={'ad':[],'hc':[]}\n",
    "manual_words['ad'] = extract_words(manual_trans['ad'])\n",
    "manual_words['hc'] = extract_words(manual_trans['hc'])\n",
    "ASR_words['ad'] = extract_words(ASR_trans['ad'])\n",
    "ASR_words['hc'] = extract_words(ASR_trans['hc'])\n",
    "#manual Jaccard similarity\n",
    "manual_ad_hc_jaccard = len(manual_words['ad'].intersection(manual_words['hc'])) / len(manual_words['ad'].union(manual_words['hc']))\n",
    "print(f\"Manual AD vs. HC Jaccard Similarity: {round(manual_ad_hc_jaccard,4)}\")\n",
    "#ASR Jaccard similarity\n",
    "ASR_ad_hc_jaccard = len(ASR_words['ad'].intersection(ASR_words['hc'])) / len(ASR_words['ad'].union(ASR_words['hc']))\n",
    "print(f\"ASR AD vs. HC Jaccard Similarity: {round(ASR_ad_hc_jaccard,4)}\")\n",
    "\n"
   ]
  },
  {
   "cell_type": "markdown",
   "metadata": {},
   "source": [
    "#cal Kullback-Leibler Divergence"
   ]
  },
  {
   "cell_type": "code",
   "execution_count": 16,
   "metadata": {},
   "outputs": [
    {
     "name": "stdout",
     "output_type": "stream",
     "text": [
      "Manual AD vs. HC Lexicon Count: 16415\n",
      "Manual AD vs. HC Word Count: 2211\n"
     ]
    }
   ],
   "source": [
    "manual_ad_document = remove_punctuation(' '.join(manual_trans['ad']))\n",
    "manual_hc_document = remove_punctuation(' '.join(manual_trans['hc']))\n",
    "ASR_ad_document = remove_punctuation(' '.join(ASR_trans['ad']))\n",
    "ASR_hc_document = remove_punctuation(' '.join(ASR_trans['hc']))\n",
    "manual_ad_hc_document = remove_punctuation(manual_ad_document + ' ' + manual_hc_document)\n",
    "ASR_ad_hc_document = remove_punctuation(ASR_ad_document + ' ' + ASR_hc_document)\n",
    "#计算一段文本的词汇数\n",
    "manual_ad_hc_lexicon_count = textstat.lexicon_count(manual_ad_hc_document, removepunct=True)\n",
    "#统计某个单词在文本中出现的次数\n",
    "manual_ad_hc_word_count = manual_ad_hc_document.count('the')\n",
    "print(f\"Manual AD vs. HC Lexicon Count: {manual_ad_hc_lexicon_count}\")\n",
    "print(f\"Manual AD vs. HC Word Count: {manual_ad_hc_word_count}\")"
   ]
  },
  {
   "cell_type": "code",
   "execution_count": 17,
   "metadata": {},
   "outputs": [
    {
     "name": "stdout",
     "output_type": "stream",
     "text": [
      "manual_ad_document vs manual_hc_document: 0.9663\n",
      "manual_hc_document vs manual_ad_document: 0.8862\n",
      "ASR_ad_document vs ASR_hc_document: 1.6067\n",
      "ASR_hc_document vs ASR_ad_document: 1.5399\n"
     ]
    }
   ],
   "source": [
    "import numpy as np\n",
    "from collections import Counter\n",
    "\n",
    "def jelinek_mercer_smoothing(word, doc_prob, collection_prob, alphaD=0.1):\n",
    "    \"\"\"\n",
    "    计算 Jelinek-Mercer 平滑后的概率\n",
    "    参数：\n",
    "    - word: 要计算的单词\n",
    "    - doc_prob: 单词在文档中的概率 P(wi|D)\n",
    "    - collection_prob: 单词在整个文档集合中的概率 P(wi|S)\n",
    "    - alphaD: 平滑系数，默认为 0.2\n",
    "    \n",
    "    返回：\n",
    "    - 平滑后的单词概率 P(wi|D,S)\n",
    "    \"\"\"\n",
    "    return (1 - alphaD) * doc_prob + alphaD * collection_prob\n",
    "\n",
    "def kl_divergence(doc1_probs, doc2_probs):\n",
    "    \"\"\"\n",
    "    计算文档 D1 和 D2 之间的 KL 散度\n",
    "    参数：\n",
    "    - doc1_probs: 文档 D1 中平滑后的单词概率\n",
    "    - doc2_probs: 文档 D2 中平滑后的单词概率\n",
    "    \n",
    "    返回：\n",
    "    - KL 散度\n",
    "    \"\"\"\n",
    "    ad=[]\n",
    "    kl_div = 0.0\n",
    "    for word, prob1 in doc1_probs.items():\n",
    "        prob2 = doc2_probs.get(word, 1e-10)  # 避免除以 0\n",
    "        kl_div += prob1 * np.log(prob1 / prob2)\n",
    "    return kl_div\n",
    "\n",
    "def calculate_word_probabilities(document):\n",
    "    \"\"\"\n",
    "    计算每个单词在文档中的概率 P(wi|D)\n",
    "    参数：\n",
    "    - document: 文档内容（字符串形式）\n",
    "    \n",
    "    返回：\n",
    "    - 单词概率字典\n",
    "    \"\"\"\n",
    "    words = document.split()\n",
    "    total_words = len(words)\n",
    "    word_counts = Counter(words)\n",
    "    word_probs = {word: count / total_words for word, count in word_counts.items()}\n",
    "    return word_probs\n",
    "\n",
    "def calculate_collection_probabilities(documents):\n",
    "    \"\"\"\n",
    "    计算单词在整个文档集合中的概率 P(wi|S)\n",
    "\n",
    "    - 单词概率字典\n",
    "    \"\"\"\n",
    "    words = documents.split()\n",
    "    total_words = len(words)\n",
    "    word_counts = Counter(words)\n",
    "    word_probs = {word: count / total_words for word, count in word_counts.items()}\n",
    "    return word_probs\n",
    "\n",
    "\n",
    "# 计算单词概率\n",
    "def cal_KL_main(doc1,doc2):\n",
    "    doc1_probs = calculate_word_probabilities(doc1)\n",
    "    doc2_probs = calculate_word_probabilities(doc2)\n",
    "    collection_probs = calculate_collection_probabilities(doc1 + ' ' + doc2)\n",
    "    doc1_smoothed_probs = {word: jelinek_mercer_smoothing(word, doc1_probs.get(word, 0), collection_probs.get(word, 0)) for word in doc1_probs}\n",
    "    doc2_smoothed_probs = {word: jelinek_mercer_smoothing(word, doc2_probs.get(word, 0), collection_probs.get(word, 0)) for word in doc2_probs}\n",
    "    kl_div = kl_divergence(doc1_smoothed_probs, doc2_smoothed_probs)\n",
    "    return kl_div\n",
    "\n",
    "kl_div = cal_KL_main(manual_ad_document,manual_hc_document)\n",
    "print('manual_ad_document vs manual_hc_document:',round(kl_div,4))\n",
    "kl_div = cal_KL_main(manual_hc_document,manual_ad_document)\n",
    "print('manual_hc_document vs manual_ad_document:',round(kl_div,4))\n",
    "\n",
    "kl_div = cal_KL_main(ASR_ad_document,ASR_hc_document)\n",
    "print('ASR_ad_document vs ASR_hc_document:',round(kl_div,4))\n",
    "kl_div = cal_KL_main(ASR_hc_document,ASR_ad_document)\n",
    "print('ASR_hc_document vs ASR_ad_document:',round(kl_div,4))\n"
   ]
  },
  {
   "cell_type": "code",
   "execution_count": 25,
   "metadata": {},
   "outputs": [
    {
     "name": "stdout",
     "output_type": "stream",
     "text": [
      "{'wav2vec2-base-100h_fine_tune': 83.43, 'wav2vec2-base-100h_original': 80.52, 'wav2vec2-base-960h_fine_tune': 80.31, 'wav2vec2-base-960h_original': 83.02, 'wav2vec2-large-960h_fine_tune': 81.46, 'wav2vec2-large-960h_original': 80.21, 'wav2vec2-large-960h-lv60_fine_tune': 82.19, 'wav2vec2-large-960h-lv60_original': 75.31, 'wav2vec2-large-960h-lv60-self_fine_tune': 78.44, 'wav2vec2-large-960h-lv60-self_original': 81.25, 'wav2vec2-large-xlsr-53-english_fine_tune': 75.42, 'wav2vec2-large-xlsr-53-english_original': 80.52, 'wav2vec2-xls-r-1b-english_fine_tune': 76.25, 'wav2vec2-xls-r-1b-english_original': 78.44, 'hubert-large-ls960-ft_fine_tune': 75.21, 'hubert-large-ls960-ft_original': 81.56, 'hubert-xlarge-ls960-ft_fine_tune': 82.71, 'hubert-xlarge-ls960-ft_original': 78.02, 'wavlm-libri-clean-100h-base-plus_fine_tune': 74.48, 'wavlm-libri-clean-100h-base-plus_original': 77.19, 'wavlm-libri-clean-100h-large_fine_tune': 85.31, 'wavlm-libri-clean-100h-large_original': 75.0, 'whisper-tiny_fine_tune': 81.67, 'whisper-tiny_original': 85.42, 'whisper-base_fine_tune': 79.79, 'whisper-base_original': 80.31, 'whisper-small_fine_tune': 81.87, 'whisper-small_original': 82.4, 'whisper-medium_fine_tune': 79.17, 'whisper-medium_original': 79.69, 'whisper-large_fine_tune': 82.71, 'whisper-large_original': 70.83, 'whisper-large-v2_fine_tune': 83.75, 'whisper-large-v2_original': 81.46, 'whisper-large-v3_fine_tune': 79.79, 'whisper-large-v3_original': 78.12}\n"
     ]
    }
   ],
   "source": [
    "import csv\n",
    "asr_model_verion_acc_path = '/mnt/hd/data_lyl/projects/LLMEmbed/error_analysis/all_model_version_result_135epoch.csv'\n",
    "asr_model_verion_acc = {}\n",
    "with open(asr_model_verion_acc_path, 'r') as csvfile:\n",
    "    reader=csv.reader(csvfile)\n",
    "    for row in reader:\n",
    "        if row[0] == 'model':\n",
    "            continue\n",
    "        # print(row)\n",
    "        asr_model_verion_acc[f'{row[0]}_fine_tune'] = float(row[1].split(' ')[0])\n",
    "        asr_model_verion_acc[f'{row[0]}_original'] = float(row[2].split(' ')[0])\n",
    "        # print(asr_model_verion_acc)\n",
    "print(asr_model_verion_acc)"
   ]
  },
  {
   "cell_type": "code",
   "execution_count": 53,
   "metadata": {},
   "outputs": [
    {
     "name": "stdout",
     "output_type": "stream",
     "text": [
      "{'whisper-large_fine_tune': {}, 'whisper-large_original': {}, 'wav2vec2-large-960h-lv60_fine_tune': {}, 'wav2vec2-large-960h-lv60_original': {}, 'whisper-large-v3_fine_tune': {}, 'whisper-large-v3_original': {}, 'hubert-large-ls960-ft_fine_tune': {}, 'hubert-large-ls960-ft_original': {}, 'whisper-base_fine_tune': {}, 'whisper-base_original': {}, 'whisper-medium_fine_tune': {}, 'whisper-medium_original': {}, 'wav2vec2-large-xlsr-53-english_fine_tune': {}, 'wav2vec2-large-xlsr-53-english_original': {}, 'whisper-large-v2_fine_tune': {}, 'whisper-large-v2_original': {}, 'wav2vec2-xls-r-1b-english_fine_tune': {}, 'wav2vec2-xls-r-1b-english_original': {}, 'wavlm-libri-clean-100h-large_fine_tune': {}, 'wavlm-libri-clean-100h-large_original': {}, 'wavlm-libri-clean-100h-base-plus_fine_tune': {}, 'wavlm-libri-clean-100h-base-plus_original': {}, 'hubert-xlarge-ls960-ft_fine_tune': {}, 'hubert-xlarge-ls960-ft_original': {}, 'whisper-tiny_fine_tune': {}, 'whisper-tiny_original': {}, 'whisper-small_fine_tune': {}, 'whisper-small_original': {}, 'wav2vec2-base-960h_fine_tune': {}, 'wav2vec2-base-960h_original': {}, 'wav2vec2-base-100h_fine_tune': {}, 'wav2vec2-base-100h_original': {}, 'wav2vec2-large-960h_fine_tune': {}, 'wav2vec2-large-960h_original': {}, 'wav2vec2-large-960h-lv60-self_fine_tune': {}, 'wav2vec2-large-960h-lv60-self_original': {}}\n",
      "a boy in the cookie jar he gets a cookie in his hand hes gonna fall sister the mother is drying the dish and the water is coming out i dont know the mothers foods what okay i see the little boys down here shes getting the the food and the little girl down here is the same way this little boy this is falling over and this little girl shes just getting getting things ready for dinner curtain dropped i think it did yes it did okay you all have a chair shes running the water over i dont see anything else oh okay stepping in the water youknow see a lady a lady and her children thats wrong the lady is wash washing dishes i dont know what the heck okay and children have cookies the father is in the cupboard fall there didnt come in and the baby is getting ready thats thats a water water water running down gonna fall over okay we see a little boy climbed up on a stool reaching for a cookie jar and the stool is about to or is falling he is trying to get a cookie for himself and also one for his sister his sister is telling him to be very quiet and shes going shh okay write that down jowny to be quiet and lets see in the meantime the mother is washing the dishes or is washing dishes and the sink has overflowing and is pouring water on the floor i dont think i see anything else okay well little boy reaching out for the cookie jar and the stool hes standing on tilts over and hes handing some cookies down to the little girl and the mothers drying dishes and spills water on the floor and shes looking out the window thats it i dont see a kid there and somebodys doing drying dishes no i dont think thats very well clear theres someone standing on a stool and the stools getting ready to fall over somebodys drying dishes no i dont see anything else going on over here im thinking now maybe the waters overrunning im not too sure theres some water on the floor here and theres something in the sink thats overrunning okay theres a cookie a boy is taking cookies and giving one to the girl imagine and she wants one i dont know the mothers washing dishes shes spillbutt shes washing dishes i dont know i can i can dance outside to you huh i oh oh hes gonna fall and shes laughing at him only the water else i dont know okay the ladys washing the dishes that they always do the little boy is up on the stool falling over hes trying to get a cookie and the girl is trying to help him shes reaching her hand up and the water is run over around the sink no water all over the sink is being run over with water the stool the kids standing on is falling and hes getting cookies from a jar the ladys washing dishes the girls reaching for a cookie there be more i dont think so you want me to tell you okay the boys getting in the cookie jar his sisters waiting for cookies the mothers washing dishes and the water spilling over you can see the walk and the grass outside in the window the stool is about ready to fall the cupboard doors open okay i see a boy in the cookie jar i see he has a lid off i see that he is standing on a three legged stool and hes about to depart from that three legged stool theres one cookies hand handed down to his sister and shes reaching up for it and i think shes indicating to the boy to keep stealing his mother doesnt care whats going on i see a mother i guess shes drying the dishes shes not paying attention because shes leaving the sink running over and spilling them all over the floor she must not be conscious because shes standing theres a door i think she must i think shes probably looking out the window to take the second look and i see wearing a couple of dirty dishes on the table top i see the cupboards i dont know whether they all have knobs on them or not thats look like the two of them falling the girl off on the cupboard door and i see outside and i see a tree with shrubbery and some edges more theres a boy over here standing on the chair and its falling over and the girl is down below the boy is up there hes has a cookie jar up there hes putting cookies in and the things falling over and theres the lady shes just shes washing dishes and drying them and the sink is turned on and the waters running down ands running on the floor and shes standing in the water shes got a dress on and shes looking out outof path straight down here and shes looking out to the window it looks like that boys gonna fall over pretty soon well the kids standing on a tilted stool getting cookies the waters running outof the sink the girl has two different shoes on the stool is tilted the cookie jar is not a jar its a its its a tin tin tin dish or whatever going in that picture they the cookie jar with the the girl helping him the guy is here the mother was there spilling the water this wouldnt be the grandmother i guess its a childrens oh well i think hes going to fall pretty much but she was helping and he handed the cookies to his sister i guess well it the mother is drying dishes better get the water off the water well he might fall soon if he does hes careful though i think so boy the door is open well i boring dishes girl fifteen boy cookie jar fall stowel mhm boy boy boy chair floor is wet alright brush branch hm more no more no hes on the ride okay okay okay alright i see the little boy stealing cookies from the cookie jar and the little girls and he gave something to the little girl and shes eating some of the cookies and i guess this is mama and shes washing the dishes and she dropped the dish no no she didnt drop a dish shes there the water that shes washing the dishes but she left running and its overflowing overflowing overflowing it doesnt that doesnt sound right no we forgot to turn off the spigot and so the water is running off into the onto the floor here and mom apparently is washing the dishes and heres this little boy stealing the cookie cookies hes gonna hes gonna fall because his the cookie jar or the the bench that hes four legged stool or whatever it is is gonna fall over with him and the cookie jar and mamas drying the dishes and doing the work for mamas if they dont have a husband that dries them or washes them or whatever lets see now i guess theres more things im supposed to see its seeing her oh and the the water is flowing outof the sink because theyve got to turn off whoevers doing the the dish washing mom up there and shes got turned off the water and the water is spilling out over the onto the floor onto the kitchen floor and the little girl is pushed over the chair with the boy that hes reaching up to get the cookies i either she push it over or he go over with it you know what excuse me but you know i i was sure the little girls standing in the kitchen and the little boy steps on a chair to get some cookies and hes about to fall down and his mother isnt aware of it yet shes still washing dishes and then the sink ran over i guess when she got excited and its falling down on a on a floor in the kitchen and shes trying to dry the dishes and shes just standing there she still has dishes to go i guess this little boy is about to fall oh and this little girl is smiling at him because hes going for the cookies in the cookie jar mhm theres a young boy going in a cookie jar and theres a little girl a young girl and im saying hes a boy because he cant its hardy hard to tell anyone hes hes in the cookie jar and theres a stool that he is on and it already is starting to fall over and so is the water in the sink is overflowing in the sink i i dont know about the the cookie here whether thats more than what i said like the the wife or imean the the mother is near the girl and shes she has i cant think of the she has the the shes trying to wipe wipe dishes and stop the water from going out an average home that looks very much like ours at many times and the mother is well shes spilling her water which is not very good but shes doing washing dishes and drying them and one of the children upsets cookie jar and its a very average thing to go in and out our home is a very its a very active family and so that it makes it kindof hard at our house sometimes because theres alotof like i said alotof activity well the poor girl is spilling the water on her feet the kid is gonna be wet but that shell have to struggle with that also there are a few more dishes that didnt get finished this has to be the dishes and how that little boy fell off that stool i dont know but he did no this is a cloth copy copy see by his yeah mother mother thats all whats going on hes huh can you tell me whats going on over here ample on the left with a nice discharge charged thats about all flexible my husband found a whats going on in this picture her two her how long are you here i want you to well thats my girl not anything i can see oh no this is black and just whats that oh the kid is robbing the cookie jar and the mothers washing dishes and forgetting that the waters run and its running on the floor and his stools about to dump him i see a hair hes about to go i dont think thats about all i can see its what you might be looking for hes about to drop off that stool too h okay i dont know what im going well the little boys reaching for a cookie he stool is falling over and the little girls facing in the other one i dont know okay mom is doing the dishes thats about all i okay and now youre looking at it i dont know i dont know nice doing that there everything anything else well the kid and the girls laughing at her brother because he went into the cookie jar and hes falling over the cookie jar the mothers looking the mother is at the sink and the sink splashing splashing over the sink and shes sortof little bit bitchy the waters going and flooding over the sink and theres saucer theres a plate theres a couple of dishes well shes and the mothers looking out the window i dont know what the hell i think of it a girl laughing at her brother who is taking cookies outof the cookie jar and hes ready to fall off the damn plate off the off the chairies on and the chair is crooked what the hell else and theres a plate saucer and two cups shes looking out the window the windows open shes not paying any attention to the kids the waters flooding over the sink what else you want mhm well this one is in the cookie jar and this is she tried to climb the oh no no this boy i think this is the same one trying to get in the cookie jar and shes watching and over here must be the mother i dont know what theyre doing here whats going on the stool she was climbing and the stool tipped over she was doing the dishes i think she spilled something well the children are climbing up and hes about to fall thats about it and shes telling him to be quiet so mother wont hear it wont hear him getting up there i dont know thats it theres a reason she must have been upset about something because she is running the water over the sink i cant believe shes outside the door because she doesnt see it and go back to the dishes thats about it i said shes deciding it if she did see that shes deciding it shes not letting go of anything i dont know if shes on the phone thats it maybe not very dish but shes over there falls too and with the water on the floor and the dishes there on the floor there is a theres a well starting from the the the okay tell me whats going on in the kitchen first the the i cant want to say what this is this the the cabinet door is open and the children are stealing the cookies the mom is not even looking and the boy falls or looks like hes gonna fall a very good and then the mom is doing here the wash the dishes and she got over all wet its the sink run over and everythings going haywire oh mercy oh you want me to oh okay looks like the mother is doing washing the dishes and the little boy is trying to get cookies up in the cookie jar up in the cookie jar and theres a little girl with him and the the the bench or what do you call it is looks like its gonna fall and well thats thats about all i can see and theres i guess this is breakfast water theyre raiding i think they are going to get some cookies outof the cookie jar and the mother does not see it because shes inside drying the clothes and the kids there i guess in the picture that mothers just working hard and the kids are just playing and all of a sudden the mother is just turning over a dish how old are the children except the it is not drying it didnt splash from the it didnt splash from the sink but not from from the no too much trying to get too much outof him anything else and it is a whats here yes its its a some sometimes i i see a girl and play it and other times i i see a weak image yeah its sometimes i i just dont youre welcome is there anything else that you can think of mostly is i i have not had so much trouble looking at everything that i have seen before thats been out there and in the reach but not but not getting anything outof that you would say oh any anything i see well theres a little girl here shes pointing at something and that looks like her mother is is about ready to to fall down on that where shes sitting there where it says cookie jar and here on the right side theres young the lady there shes washing the wet chair shes cleaning i see a shes cleaning i okay notake on some cookies and falling over and the mothers drying dishes and sinks falling up sinks running over and two cups and saucer on the plate on the sink and and girls cookies imean windows on the curtain and theres tickets on the sink andi see why youre here thats about it a cookie jar and the kids the boys going to get some a cookie jar the mothers washing and drying dishes ohboy i been here and what happens girl that waters coming outof there oh boss and the little one i dont know what he shes gonna get something from him oh boy hm thats it oh okay what do i have to do now now honey i had it was in the kitchen and i was the oldest ten and if we made a mess like that youd get a kick in the ass well we have a spilling of the water and the kid when theres cookie jar and his stool is turned over and the mothers running the water on the floor i dont know what else you want from that it looks like somebodys lying on the grass doesnt it and the kid in the cookie jar and a tilted stool what more do you want falling water rolling on the floor and boys falling off the stool the girls cut her hand out ladys all drying dishes the water is spilling on the floor bushes and a tree outside the window and boys trying to get a cookie jar out rains on the water sink by the window thats alright well the poor mothers at doing dishes theres a boy on the on a stool cookie jar and a girl down below is that all you wanted to know okay theres a cookie jar the little boy is standing on a stool and hes ready to go over little girl standing there the mothers at the sink doing dishes her waters overflowing thats about it well this boy is almost falling outof the off of the chair when hes putting up the picture and shes washing dishes i guess thing wont go a liar sink is running over too isnt it is that out more or theres just more to it this one looks pretty much a not to play the hit and the curtains on the window oh this is a lady here i dont know right there i dont know i dont know when i had it this way it looks almost like a lady oh shes washing dishes and she must have brought one oh no the water looks like its running over and hes almost falling over the chair and shes shady something looks like well a boy on a stool and its gonna have a i dont know and a sink that you run on the water mother drying the dishes that is by all the things in that cookie oh i dont know the sink is running over i i dont know windows open theyre like going down and the boy and the girl are playing and hes gonna fall down off the ladder and the mother is washing the dishes and its flying out over the sink down to the floor what else do you want to tell you whatever you see happening thats it i dont see anything else boys in my picture cant see over something that wont be done if it rains i see a girl standing there someone wants a certain no some kind of a flower and a tree and the girl is there theres something up there i guess im not a good overwatch do you want looks like some old girl is in the i dont see anything else and waters running you look at me about this way with something things up there i think this thing looks about the same as the one up this thing here looks like a real sister im sorry i didnt bring my glasses mhm oh theyre saying cookie jar and the boy is falling off a stool and the mother is spilling the water and the i and tell me the water well lets see theres something has to be where the water goes down over theres probably something that or they dont have it open or something i dont know what when the water goes down what what do you call it the chair right here grass what what do you call that what is that what is that i dont know thats what im saying and i i dont know what that is but what a pipe oh oh oh water pipe oh yeah okay well then maybe the water pipe is broke or not broke but there must be things in there that the water will not go down i dont know huh whats happening to the water well the water is going down in the i but what would you call this floor floor floor yeah okay okay a what well down on this side of the picture well this thing here is turning over yeah no i dont know whats going on well hes probably getting whats this here a cocoa jar whats whats his cocoa cookie i dont know i dont know what cookie cookie oh cookie cookie oh oh okay anything well hes getting it out and hes gonna give it to the girl hm down here is there anything going on in the picture well the boy is giving him the girl the coco cookie this probably is broke so the water will not go down in and its coming up and going in here well looks like shes she was gonna wash but shes what they eat with well what do you call it what what do you call this a plate a plate oh oh yeah yeah yeah what you eat in it is that is that what you call them a plate oh this is a cup oh maybe i dont know okay okay i dont know how she looks like either his mother is drying dishes and the stool is outside no shes its hard getting a cookie some cup and saucers sitting there in the plate ready to eat cookie jar right here i dont know what i should do yeah well i dont know i dont know looks like a mess mm well shes washing dishes hes coming up to get cookies you gonna fall and shes laughing and shes spilling running the water over that looks like someone down on there or something mom on the waters out there he must be picking apples here because hes on the ladder and hes got both hands open and he cant be and the chair was falling the babys crying thats all everything ep going on well this is the boy trying to get the cookie jar done for his sister i wouldnt imagine it and hes gonna fall off the ladder off the the stool or whatever hes sitting on mothers over here she just dropped some water or whatever on the floor and she looks pretty mad and the water is still running and it looks like the the girl is laughing at the at the boy because the stool is gonna fall over and theres theres water on the floor there no i dont see a part of the whole kitchen is that all in kitchen or is it okay a lady in water right in the kitchen and there are kitchen kitchen with some work supposed theres another woman there sharing her dishes or whatever and and he took part in that game that they started to play after christmas eah mhm thats well it looks like thats just like this is i dont know i dont know oh one body one body both of these doors a mother upbeating me by a my wife upbeating by a own brother to this that looks like the wash looks like a washing machine let me see i cant oh thats the sons mom in school maybe or something thats the next door well its just as though they getting ready to go to school or theyre just coming home from school right there is same as back there except for down here on the bottom i think its thats about all i the the water is flowing on the floor and shes drying dishes and hes up in the cookie jar and shes drying dishes thankyou very much the woman at the house is drying the dishes her sink is overflowing the boys stool is tipping hes taking cookies outof a jar hes handing one to his sister shes oh shes already dried some dishes right here i guess what is this i i cant make that up it looks like a oh action okay i dont know hes standing in water without that if thats action and the door is open where the cookies are they all have the shoes on oh shes got an apron on over her dress kindof holding girl isnt she shes not doing much shes just got her hand like how many do i get wrong okay a little girl and a little boy standing on top of a stool and it looks like the mother maybe washing the dishes in the kitchen theres cookies in the jar in the pantry i suppose theres a cup two cups and a saucer or a plate maybe theres a shrub outside the sink is overflowing right now oh sink is overflowing i see the reflection i dont know about what thats it the little boy is up on a on this thing here and its hes up trying to get something out of a garden selection i think it is little girl i think is mad because she didnt get something and heres mama drying the dishes and then just the little girl and the boy was on here the little girl and the boy shes reaching up to the boy and the boys got his other hand down so anything else no no thats all she spilled something i think from the sink down it came splashing the thats the first i noticed it not terrible anymore well the kids up taking cookies outof the cookie jar the other ones there are holding her hand the jar is gonna fall shes washing dishes and forgot to turn the sink off waters going all over the floor the dishes are on sink it looks like a face laying in the yard where the grass is hm i dont see that thats what we got kid taking cookies outof the cookie jar the kid has her hand up after it mom is washing dishes sinks running over and thats it window window windows open oh yes a little girl and the little boy is getting cookies outof the jar oh and the stool is upsetting and i guess its the mother is drying dishes water spilling down all over the sink water on the floor little boys gonna fall and that steps in that stool i think the cookie jar is gonna fall and he is drying dishes and water the faucet is on water is running all over the floor what else am i subscribing to what yeah the cookie jar the stool theyre doing the dishes the waters going bars not here i dont know if i can see well theres a cookie jar and a youngster with a i dont know what he got cookie jar boy has a shirt with a cookie jar too the girl has one two jar thats a stool and this is a for the kitchen blank dishes and this is water somebody spilled theres a small jar theyre called us i dont know i guess its a mother for the i dont know what its for other the tank very interesting i dont know shes looking at it i dont know what but the kids gonna fall off the stool i dont know how p does young kids no theyre in the cookie jar what have i done i dont know well theyre spilling something good and much theyre doing the dishes dishes there the boys trying to fall off the stool and shes trying to get the dishes all done well the boy on the chair is falling reaching up for a cookie handing one to the girl the lady is wiping a dish the waters running on the floor shes standing in it trees outside the lawn shrubbery a window outside that i can see thats about it oh the little kids falling off of his chair and the mother is having water run over the sink well the waters running on the floor under her feet im looking outside but that yard is okay the windows are open the little girl is laughing at the boy falling off the chair not thats bad hes saying the mother shes washing dishes and the waters running all over the floor and the boy hes reaching up for cookies and he his ladder slipped from underneath him and i guess hes gonna have an accident and the little girl shes waiting for the cookies but i dont think shes gonna get them because the boys falling down i see two kids up at the cookie jar one on the stool others standing on the floor cupboard door is open mothers washing the dishes waters running overflowing the sink and theres two cups and a plate on the counter and shes washing holding a plate in her hand curtains at the windows the cookie jar has a lid off thats about it cabinet underneath the sink i think i was underneath the other cupboards kid falling off the stool the girl laughing at him cookies in the cookie jar with a lid off he has a cookie in his hand and thats it probably not moms getting a wet seat where i could see thinking of days going by theres water and a boy weathering those and hes gonna crack a tree i dont know i get cookies outof thats about it thats not somebody else that would wear a thing i could i okay well handles on the cabinet doors on the countertops overhand the the window you see through the kitchen all the styles of and if the kitchen one is the same type of one as the kitchen one house styles gonna beand what else styles of reading dont know that way well i didnt take notes thats about it i lets see lets see i dont know mothers got all things water in the sink open open that baby did i say the cabinet doors kids are have no handles thats it whats here i say to wait on the sink is not much going on there shes dead i dont know i dont know but shes thinking about shes kids are behind what did i say cabinet doors i would say are different sizes i dont know sidewalk alright thats about it the boy is getting married at the stool is on the stool yeah hes doing dishes shes meek its overflowing on the floor okay i dont know oh thats his feet i dont know i dont know whether shes left either asking for a cookie or saying something that doesnt matter oh yeah kids climbing up on the stool reaching up in the cupboard theyre not gonna knock things off and the mother ohboy the waters all spilling outof the sink shes just looking at it like oh goodness sake starting when well as i say the youknow boy on the stand or on the stool and its tilting its a good way to break his neck break is back i should say the woman after a faucet running and it running over the floor its bad enough for me to do let me scan it a little bit more oh theres more inside thats all yeah thats it well shes him spilling the water from from washing the dishes its its running over and the the youngsters there getting the jam and in the meantime hes tilting his chair hm and yes hes hes trying to get the plate down where i suppose she can share with him and and the mothers the water is running over which she doesnt seem to be aware of it too much and his chair is slipping out from kindof the stool thats slipping out from under him thats very thats it anyway thats it yes i can not find a cookie in the kitchen i dont know i dont know i dont know theres a woman like the one that stool is on no water splashing outof the sink i put my look in the cookie jar and my face is there im still well the sink is running over shes drying the dishes theyre getting in the cookie jar and theyre upstanding the stool well i girl is reaching for a cookie the lady here is standing right in the water she seems to be looking out the window at the lawn thats about it cookie so i have to use my my personal description alright right here the cookie jar is standing in the cookie outof the cookie jar the the tripod stool and the triple stool is hes walking in it and shes putting her finger to her left and i guess she wants one to eat or shes reaching up for it no and then going the water in the kitchen sink shes drying the dishes and that sink is overflowing i said that would be the the waters overflowing because the sink is waters running outof the sink shes drying dishes i dont see anything else here my dishes open okay i guess i cant throw you a mic yeah i dont know what the real cookies are the girls standing there looking at the window the mothers doing the dishes i dont know about the i dont know what i cant see anything okay thats all there is except shes looking all wet yeah the little girl is helping a boy with a cookie jar but hes got something i dont know the mothers not in the sink but i dont know what is going on outside i dont know hm the little boy climbing up in some cookies at the cookie jar and it lets us to reach up a song and the boys standing on the left and his big sister washing the dishes at the sink the sisters washing the dishes and she got she got dishes on the sitting on the sink i think shes running water and i say to the little sisters reach jonna jonna hes hes up on the ladder getting some cookies and the little sister reaching up reaching up after them anything hes hes facing down to her and the mother at the mouth about to turn over the the cups what shes maybe she doesnt wash them and she got them sitting on the on the sink and maybe running maybe running water on the sink and the guys is she got a got a curtain pull that she might get some light in there and the dishes the dishes dkndu they might be on the sink not even already its a family up there a mother and children and theyre each busy at something and the they seem oblivious to the water falling overflowing but they seem happy and doing their own thing i dont think i i washed it i dont know the kitchen looks tableware seems fallen sinks running over okay shes drying a dish i think its faucet thats about all its i dont know well yeah i hear something outside window starting against all the action okay its a boy and a girl and their mom and theres here one one one theyre falling falling down in the room here and then this here when the water should be going down in there but its going down on the side here its going all the way down in here theyre getting something to eat here c o o k e i e j a r and theyre getting something to eat here and this is a nice place but they but they had but they put that stuff around the near that looks and it looks nice and in here when they had some stuff in through here and i like these things in through here okay you mean like the woman doing the dishes and the water running outof the sink little boys getting in a cookie jar the stool is falling over little girl wants one no and this is that one the sink no window the grass is outside and they have a nice one on i dont know i dont see anything else on there well into the cookie jar and the the stool is falling down shes doing dishes and the sinks running over and wet her face i said i dont know anything else shes drying dishes no and the kids in the cookie jar i dont know anything else i can do on the chair yeah i see the womans in the kitchen no no i and theres a little boy talking in a little boy i assume and this is a high chair or some kind of a chair i see a bus there i cant see anything oh i did i talk about this before she is not i cant see too much running in the kitchen oh yes where was she at this one i really cant see anything else no they dont thats awfully hard to neither understand cookie jar and hes stepping on a well hes on a stool but its hes going overboard and the waters running outof the sink and pants a little boy is getting himself some cookies outof the jar and the stool is turning over on him that hes standing on hes handing the little girl some cookies outof the jar is that it and well thats been the first one hes handing the little girl cookies outof the cookie jar hes on the stool and its turning over and hes handing her some cookies and in the second picture the little girl looks as though shes drying dishes and the sink is running over on the floor she has a picket on a nice view from the window is that is that it thats it well the little boy is stealing cookies and giving it to his friend or sister hes pushing and falling off the stool the sister is telling him to be quiet mother is washing dishes and the water is overflowing onto the floor and shes standing in the puddle and has a smile on her face the girls in the drying i get that and theres a girl that is drying dishes right shes washing dishes and theres two boys one man one is getting cookies cookies jar in the cabinet the girls crying but its she wants a cookie and the girl i dont see the hell we can see that upset the water at the sink well the mother has water spilling all over the floor for one thing and shes starting to dry the dishes and then shes looking out the window and the little girls there and the little boy and he almost is falling off the stool but he didnt so he hes survived anyway huh yeah on his paper yeah okay the boys in the cookie jar hes gonna fall off a stool the mother is probably running over on the floor kids going head on the floor wheres the girl at shes shes reaching for a cookie poor old moms got a kid her thats about it\n",
      "{'finger', 'garden', 'either', 'house', 'awfully', 'just', 'did', 'room', 'so', 'action', 'happy', 'straight', 'right', 'is', 'shh', 'of', 'might', 'see', 'sudden', 'second', 'asking', 'bushes', 'meantime', 'rolling', 'giving', 'goodness', 'shrub', 'crooked', 'forgot', 'neither', 'ten', 'own', 'handles', 'into', 'pipe', 'path', 'tickets', 'overhand', 'spilling', 'christmas', 'sons', 'three', 'robbing', 'everything', 'upset', 'slipped', 'o', 'her', 'shrubbery', 'windows', 'knock', 'honey', 'styles', 'smile', 'kick', 'hm', 'stand', 'dkndu', 'ladder', 'terrible', 'counter', 'enough', 'went', 'different', 'where', 'mm', 'cupboard', 'there', 'machine', 'put', 'sortof', 'somebodys', 'j', 'imagine', 'got', 'kitchen', 'started', 'boys', 'big', 'one', 'and', 'stool', 'really', 'near', 'dance', 'ass', 'neck', 'first', 'many', 'say', 'haywire', 'already', 'understand', 'activity', 'splash', 'thinking', 'more', 'for', 'e', 'baby', 'door', 'which', 'here', 'old', 'walk', 'wearing', 'push', 'seen', 'curtains', 'theres', 'eat', 'things', 'fifteen', 'gonna', 'window', 'mhm', 'had', 'forgetting', 'damn', 'guys', 'against', 'seem', 'guess', 'work', 'body', 'when', 'wife', 'copy', 'k', 'ran', 'hard', 'overboard', 'how', 'tilts', 'song', 'upsetting', 'said', 'blank', 'pull', 'home', 'yard', 'imean', 'grandmother', 'should', 'wiping', 'or', 'any', 'small', 'hands', 'cloth', 'still', 'reaching', 'laughing', 'poor', 'ones', 'wants', 'kids', 'washes', 'care', 'man', 'shell', 'alotof', 'mean', 'ride', 'dinner', 'we', 'open', 'nice', 'whoevers', 'anymore', 'top', 'survived', 'youngster', 'their', 'weak', 'saucer', 'maybe', 'bench', 'brush', 'stepping', 'whats', 'alright', 'called', 'falls', 'shirt', 'lid', 'take', 'countertops', 'charged', 'who', 'hit', 'youngsters', 'view', 'made', 'long', 'whether', 'even', 'sharing', 'welcome', 'whole', 'brother', 'flower', 'talking', 'oh', 'finished', 'average', 'attention', 'aware', 'trees', 'kid', 'couple', 'youre', 'looking', 'keep', 'back', 'almost', 'waiting', 'working', 'what', 'splashing', 'washing', 'very', 'im', 'only', 'tin', 'didnt', 'seems', 'has', 'certain', 'dried', 'something', 'good', 'mother', 'branch', 'except', 'light', 'go', 'reading', 'stowel', 'boring', 'face', 'wear', 'meek', 'does', 'stealing', 'doors', 'underneath', 'active', 'few', 'after', 'married', 'tank', 'climbed', 'four', 'mad', 'under', 'reflection', 'scan', 'days', 'wanted', 'hell', 'matter', 'found', 'coco', 'children', 'mama', 'grass', 'says', 'legged', 'supposed', 'black', 'pants', 'times', 'cocoa', 'happens', 'down', 'that', 'fell', 'sure', 'tipping', 'must', 'cabinet', 'at', 'curtain', 'young', 'better', 'quiet', 'gave', 'climbing', 'lying', 'stuff', 'cups', 'puddle', 'okay', 'interesting', 'upsets', 'bit', 'babys', 'discharge', 'mess', 'mouth', 'boy', 'standing', 'ample', 'glasses', 'shes', 'playing', 'bus', 'call', 'youknow', 'mercy', 'turning', 'been', 'shady', 'play', 'part', 'family', 'busy', 'yet', 'no', 'tree', 'overflowing', 'mom', 'washed', 'somebody', 'handed', 'game', 'my', 'broke', 'accident', 'give', 'struggle', 'turned', 'crack', 'sidewalk', 'sister', 'run', 'me', 'its', 'little', 'soon', 'sinks', 'hair', 'coming', 'they', 'type', 'himself', 'came', 'being', 'sisters', 'be', 'selection', 'dish', 'sake', 'left', 'place', 'took', 'high', 'cleaning', 'dirty', 'starting', 'turn', 'girls', 'jar', 'sometimes', 'notake', 'next', 'r', 'tripod', 'well', 'dont', 'real', 'isnt', 'then', 'makes', 'heres', 'going', 'spilled', 'thing', 'sorry', 'trouble', 'pantry', 'am', 'other', 'friend', 'notes', 'anyway', 'clear', 'faucet', 'telling', 'girl', 'cup', 'suppose', 'throw', 'have', 'jam', 'drop', 'let', 'crying', 'theyre', 'much', 'cut', 'picking', 'drying', 'from', 'dishes', 'clothes', 'some', 'way', 'shoes', 'thankyou', 'i', 'conscious', 'kindof', 'flexible', 'floor', 'know', 'hardy', 'wipe', 'someone', 'but', 'flowing', 'make', 'assume', 'cookie', 'on', 'jowny', 'look', 'our', 'boss', 'ladys', 'wouldnt', 'edges', 'childrens', 'yeah', 'ours', 'breakfast', 'raiding', 'spillbutt', 'about', 'overwatch', 'probably', 'dress', 'c', 'picket', 'upbeating', 'mostly', 'kind', 'below', 'yes', 'spigot', 'saucers', 'sizes', 'putting', 'him', 'outside', 'now', 'us', 'to', 'sound', 'bars', 'those', 'school', 'through', 'them', 'andi', 'holding', 'ready', 'dries', 'done', 'ep', 'womans', 'watching', 'chair', 'cupboards', 'wash', 'tableware', 'plate', 'in', 'tell', 'feet', 'lady', 'foods', 'reason', 'indicating', 'handing', 'careful', 'hear', 'oblivious', 'knobs', 'bottom', 'climb', 'brought', 'dead', 'behind', 'overrunning', 'doing', 'subscribing', 'tipped', 'wont', 'like', 'apples', 'by', 'as', 'two', 'pointing', 'triple', 'walking', 'talk', 'side', 'around', 'hes', 'seeing', 'huh', 'because', 'gets', 'whatever', 'excited', 'onto', 'sitting', 'cant', 'not', 'outof', 'stools', 'it', 'the', 'think', 'flying', 'fall', 'reach', 'wait', 'inside', 'apparently', 'deciding', 'everythings', 'are', 'share', 'getting', 'eating', 'eah', 'image', 'paper', 'write', 'if', 'leaving', 'pushing', 'depart', 'flooding', 'mothers', 'picture', 'woman', 'off', 'always', 'tried', 'these', 'than', 'without', 'a', 'table', 'wheres', 'help', 'mamas', 'tilting', 'jonna', 'youd', 'paying', 'though', 'mic', 'having', 'trying', 'why', 'could', 'break', 'running', 'theyve', 'slipping', 'personal', 'will', 'oldest', 'do', 'you', 'dry', 'another', 'taking', 'sink', 'smiling', 'chairies', 'saying', 'anything', 'use', 'looks', 'goes', 'ands', 'helping', 'father', 'would', 'can', 'letting', 'ohboy', 'phone', 'apron', 'p', 'before', 'cookies', 'bring', 'happening', 'moms', 'fallen', 'an', 'bad', 'she', 'out', 'same', 'was', 'weathering', 'head', 'pouring', 'lets', 'heck', 'water', 'get', 'with', 'pretty', 'over', 'noticed', 'falling', 'bitchy', 'waters', 'believe', 'others', 'dump', 'facing', 'spills', 'rains', 'also', 'else', 'find', 'dropped', 'steps', 'excuse', 'laying', 'liar', 'hand', 'upstanding', 'up', 'guy', 'doesnt', 'beand', 'thats', 'each', 'anyone', 'his', 'both', 'lawn', 'come', 'all', 'pushed', 'husband', 'this', 'stop', 'seat', 'wrong', 'wet', 'tilted', 'too', 'h', 'he', 'food', 'want', 'description'}\n"
     ]
    }
   ],
   "source": [
    "from pathlib import Path\n",
    "asr_trans_dir='/mnt/hd/data_lyl/projects/LLMEmbed/dataset/ASR_trans'\n",
    "all_asr_trans_path = [p for p in Path(asr_trans_dir).rglob('*.csv')]\n",
    "asr_model_list=[model for model in set([p.parts[-3] for p in all_asr_trans_path])]\n",
    "version_list=[version for version in set([p.parts[-2] for p in all_asr_trans_path])]\n",
    "asr_model_verion_ad_hc_trans={f'{asr_model}_{version}':{} for asr_model in asr_model_list for version in version_list}\n",
    "\n",
    "asr_model_verion_ad_hc_word={f'{asr_model}_{version}':{} for asr_model in asr_model_list for version in version_list}\n",
    "\n",
    "print(asr_model_verion_ad_hc_trans)\n",
    "for asr_model in asr_model_list:\n",
    "    for version in version_list:\n",
    "        ASR_train_path = f'/mnt/hd/data_lyl/projects/LLMEmbed/dataset/ASR_trans/{asr_model}/{version}/train_chas_A.csv'\n",
    "        ASR_test_path = f'/mnt/hd/data_lyl/projects/LLMEmbed/dataset/ASR_trans/{asr_model}/{version}/test_chas_A.csv'\n",
    "        ASR_train_data = pd.read_csv(ASR_train_path)\n",
    "        ASR_test_data = pd.read_csv(ASR_test_path)\n",
    "        ASR_data=pd.concat([ASR_train_data,ASR_test_data])\n",
    "        ad_trans=[]\n",
    "        hc_trans=[]\n",
    "        for index, row in ASR_data.iterrows():\n",
    "            if row['ad'] == 0:\n",
    "                hc_trans.append(row['joined_all_par_trans'])\n",
    "            elif row['ad'] == 1:\n",
    "                ad_trans.append(row['joined_all_par_trans'])\n",
    "        asr_model_verion_ad_hc_trans[f'{asr_model}_{version}']['ad'] = remove_punctuation(' '.join(ad_trans))\n",
    "        asr_model_verion_ad_hc_trans[f'{asr_model}_{version}']['hc'] = remove_punctuation(' '.join(hc_trans))\n",
    "        asr_model_verion_ad_hc_word[f'{asr_model}_{version}']['ad']=extract_words(ad_trans)\n",
    "        asr_model_verion_ad_hc_word[f'{asr_model}_{version}']['hc']=extract_words(hc_trans)\n",
    "print(asr_model_verion_ad_hc_trans['whisper-large_fine_tune']['ad'])\n",
    "print(asr_model_verion_ad_hc_word['whisper-large_fine_tune']['ad'])"
   ]
  },
  {
   "cell_type": "code",
   "execution_count": 63,
   "metadata": {},
   "outputs": [
    {
     "name": "stdout",
     "output_type": "stream",
     "text": [
      "{'acc_ad_hc_kl_div': [70.83, 1.1039], 'acc_hc_ad_kl_div': [70.83, 1.1391]}\n",
      "[70.83, 0.384]\n"
     ]
    }
   ],
   "source": [
    "asr_acc_kl_div={f'{asr_model}_{version}':{} for asr_model in asr_model_list for version in version_list}\n",
    "asr_acc_Jaccard={f'{asr_model}_{version}':[] for asr_model in asr_model_list for version in version_list}\n",
    "for key in asr_model_verion_ad_hc_trans:\n",
    "    ad_hc_kl_div = cal_KL_main(asr_model_verion_ad_hc_trans[key]['ad'],asr_model_verion_ad_hc_trans[key]['hc'])\n",
    "    hc_ad_kl_div = cal_KL_main(asr_model_verion_ad_hc_trans[key]['hc'],asr_model_verion_ad_hc_trans[key]['ad'])\n",
    "    asr_acc_kl_div[key]['acc_ad_hc_kl_div'] = [asr_model_verion_acc[key],round(ad_hc_kl_div,4)]\n",
    "    asr_acc_kl_div[key]['acc_hc_ad_kl_div'] = [asr_model_verion_acc[key],round(hc_ad_kl_div,4)]\n",
    "    \n",
    "    Jaccard_similarity=len(asr_model_verion_ad_hc_word[key]['ad'].intersection(asr_model_verion_ad_hc_word[key]['hc'])) / len(asr_model_verion_ad_hc_word[key]['ad'].union(asr_model_verion_ad_hc_word[key]['hc']))\n",
    "    asr_acc_Jaccard[key]=[asr_model_verion_acc[key],round(Jaccard_similarity,4)]\n",
    "print(asr_acc_kl_div['whisper-large_original'])\n",
    "print(asr_acc_Jaccard['whisper-large_original'])\n"
   ]
  },
  {
   "cell_type": "code",
   "execution_count": 51,
   "metadata": {},
   "outputs": [
    {
     "data": {
      "image/png": "[encoded data removed]",
      "text/plain": [
       "<Figure size 432x288 with 1 Axes>"
      ]
     },
     "metadata": {
      "needs_background": "light"
     },
     "output_type": "display_data"
    }
   ],
   "source": [
    "import matplotlib.pyplot as plt\n",
    "# 假设这是你的数据列表\n",
    "asr_acc_ad_hc_kl_div_data = [asr_acc_kl_div[key]['acc_ad_hc_kl_div'] for key in asr_acc_kl_div]\n",
    "manual_acc_ad_hc_kl_div=[80.21,0.9663]\n",
    "manual_acc_hc_ad_kl_div=[80.21,0.8862]\n",
    "acc_ad_hc_kl_div_data=[manual_acc_ad_hc_kl_div]+asr_acc_ad_hc_kl_div_data\n",
    "# 分别提取x和y坐标\n",
    "x = [point[0] for point in asr_acc_ad_hc_kl_div_data]\n",
    "y = [point[1] for point in asr_acc_ad_hc_kl_div_data]\n",
    "\n",
    "# 绘制散点图\n",
    "plt.scatter(x, y)\n",
    "\n",
    "# 可以添加标题和轴标签\n",
    "plt.title('acc ad_hc kl div')\n",
    "plt.xlabel('acc')\n",
    "plt.ylabel('kl_div')\n",
    "# 显示图形\n",
    "plt.savefig('acc_ad_hc_kl_div_data.jpg',dpi=1024,bbox_inches='tight')\n",
    "plt.show()\n"
   ]
  },
  {
   "cell_type": "code",
   "execution_count": 61,
   "metadata": {},
   "outputs": [
    {
     "data": {
      "image/png": "[encoded data removed]",
      "text/plain": [
       "<Figure size 432x288 with 1 Axes>"
      ]
     },
     "metadata": {
      "needs_background": "light"
     },
     "output_type": "display_data"
    }
   ],
   "source": [
    "import matplotlib.pyplot as plt\n",
    "def extract_x_y(data):\n",
    "    # 分别提取x和y坐标\n",
    "    x = [point[0] for point in data]\n",
    "    y = [point[1] for point in data]\n",
    "    return x,y\n",
    "# 假设这是你的数据列表\n",
    "asr_acc_ad_hc_kl_div_fine_tune_data = [asr_acc_kl_div[key]['acc_ad_hc_kl_div'] for key in asr_acc_kl_div if asr_acc_kl_div[key]['acc_ad_hc_kl_div'][0]>80.21 and 'fine_tune' in key]\n",
    "asr_acc_ad_hc_kl_div_original_data = [asr_acc_kl_div[key]['acc_ad_hc_kl_div'] for key in asr_acc_kl_div if asr_acc_kl_div[key]['acc_ad_hc_kl_div'][0]>80.21 and 'original' in key]\n",
    "asr_acc_ad_hc_kl_div_fine_tune_data_x,asr_acc_ad_hc_kl_div_fine_tune_data_y=extract_x_y(asr_acc_ad_hc_kl_div_fine_tune_data)\n",
    "asr_acc_ad_hc_kl_div_original_data_x,asr_acc_ad_hc_kl_div_original_data_y=extract_x_y(asr_acc_ad_hc_kl_div_original_data)\n",
    "manual_acc_ad_hc_kl_div=[80.21,0.9663]\n",
    "manual_acc_hc_ad_kl_div=[80.21,0.8862]\n",
    "plt.scatter(asr_acc_ad_hc_kl_div_fine_tune_data_x, asr_acc_ad_hc_kl_div_fine_tune_data_y, color='red', label='fine_tune')\n",
    "plt.scatter(asr_acc_ad_hc_kl_div_original_data_x, asr_acc_ad_hc_kl_div_original_data_y, color='blue', label='original')\n",
    "plt.scatter(manual_acc_ad_hc_kl_div[0], manual_acc_ad_hc_kl_div[1], color='green', label='manual')\n",
    "\n",
    "# 可以添加标题和轴标签\n",
    "plt.title('acc ad_hc kl div')\n",
    "plt.xlabel('acc')\n",
    "plt.ylabel('kl_div')\n",
    "# 显示图形\n",
    "# plt.savefig('test.jpg',dpi=1024,bbox_inches='tight')\n",
    "plt.show()\n"
   ]
  },
  {
   "cell_type": "code",
   "execution_count": 62,
   "metadata": {},
   "outputs": [
    {
     "data": {
      "image/png": "[encoded data removed]",
      "text/plain": [
       "<Figure size 432x288 with 1 Axes>"
      ]
     },
     "metadata": {
      "needs_background": "light"
     },
     "output_type": "display_data"
    }
   ],
   "source": [
    "import matplotlib.pyplot as plt\n",
    "# 假设这是你的数据列表\n",
    "asr_acc_Jaccard_fine_tune_data = [asr_acc_Jaccard[key] for key in asr_acc_kl_div if asr_acc_Jaccard[key][0]>80.21 and 'fine_tune' in key]\n",
    "asr_acc_Jaccard_original_data = [asr_acc_Jaccard[key] for key in asr_acc_kl_div if asr_acc_Jaccard[key][0]>80.21 and 'original' in key]\n",
    "asr_acc_Jaccard_fine_tune_data_x,asr_acc_Jaccard_fine_tune_data_y=extract_x_y(asr_acc_Jaccard_fine_tune_data)\n",
    "asr_acc_Jaccard_original_data_x,asr_acc_Jaccard_original_data_y=extract_x_y(asr_acc_Jaccard_original_data)\n",
    "manual_acc_Jaccard=[80.21,0.4021]\n",
    "plt.scatter(asr_acc_Jaccard_fine_tune_data_x, asr_acc_Jaccard_fine_tune_data_y, color='red', label='fine_tune')\n",
    "plt.scatter(asr_acc_Jaccard_original_data_x, asr_acc_Jaccard_original_data_y, color='blue', label='original')\n",
    "plt.scatter(manual_acc_Jaccard[0], manual_acc_Jaccard[1], color='green', label='manual')\n",
    "\n",
    "plt.title('acc Jaccard')\n",
    "plt.xlabel('acc')\n",
    "plt.ylabel('Jaccard')\n",
    "# 显示图形\n",
    "# plt.savefig('acc_Jaccard.jpg',dpi=1024,bbox_inches='tight')\n",
    "plt.show()\n"
   ]
  },
  {
   "cell_type": "code",
   "execution_count": null,
   "metadata": {},
   "outputs": [],
   "source": []
  },
  {
   "cell_type": "markdown",
   "metadata": {},
   "source": [
    "#Linguistic Feature Analysis(待定)"
   ]
  },
  {
   "cell_type": "code",
   "execution_count": 18,
   "metadata": {},
   "outputs": [
    {
     "name": "stdout",
     "output_type": "stream",
     "text": [
      "Feature: unigram_1, Point-Biserial Correlation: 0.3900780234078029, p-value: 0.5162370439554035\n",
      "Feature: unigram_2, Point-Biserial Correlation: 0.3462113440207694, p-value: 0.5681616379989044\n",
      "Feature: pos_tag_1, Point-Biserial Correlation: -0.8128463150723612, p-value: 0.09441638563777395\n",
      "Feature: pos_tag_2, Point-Biserial Correlation: -0.07078499768710023, p-value: 0.9099490616133089\n"
     ]
    }
   ],
   "source": [
    "import numpy as np\n",
    "import pandas as pd\n",
    "from scipy.stats import pointbiserialr\n",
    "\n",
    "# 示例数据\n",
    "# 语料库：包括每个文档中的 unigram 和 POS 标签的计数\n",
    "# 每一行是一个文档，列是特征（unigram 或 POS 标签）\n",
    "# 我们这里假设有两个 unigram 特征和两个 POS 标签特征\n",
    "data = pd.DataFrame({\n",
    "    'unigram_1': [3, 5, 2, 4, 6],    # unigram 1 出现次数\n",
    "    'unigram_2': [1, 2, 3, 2, 1],    # unigram 2 出现次数\n",
    "    'pos_tag_1': [2, 1, 3, 2, 4],    # POS 标签 1 出现次数\n",
    "    'pos_tag_2': [3, 2, 4, 3, 1],    # POS 标签 2 出现次数\n",
    "    'label': [0, 1, 0, 1, 0]         # 0 代表控制组，1 代表痴呆组\n",
    "})\n",
    "\n",
    "# 1. 特征归一化：每个文档的特征总和归一化为 1\n",
    "features = data.drop(columns='label')  # 提取特征（unigram 和 POS 标签）\n",
    "normalized_features = features.div(features.sum(axis=1), axis=0)  # 按行归一化\n",
    "\n",
    "# 2. 计算点二列相关系数\n",
    "labels = data['label']  # 提取标签（0：控制组，1：痴呆组）\n",
    "\n",
    "# 计算每个特征和标签之间的点二列相关系数\n",
    "for feature in normalized_features.columns:\n",
    "    corr, p_value = pointbiserialr(normalized_features[feature], labels)\n",
    "    print(f\"Feature: {feature}, Point-Biserial Correlation: {corr}, p-value: {p_value}\")\n"
   ]
  },
  {
   "cell_type": "code",
   "execution_count": null,
   "metadata": {},
   "outputs": [],
   "source": []
  },
  {
   "cell_type": "markdown",
   "metadata": {},
   "source": []
  }
 ],
 "metadata": {
  "kernelspec": {
   "display_name": "asr_error",
   "language": "python",
   "name": "python3"
  },
  "language_info": {
   "codemirror_mode": {
    "name": "ipython",
    "version": 3
   },
   "file_extension": ".py",
   "mimetype": "text/x-python",
   "name": "python",
   "nbconvert_exporter": "python",
   "pygments_lexer": "ipython3",
   "version": "3.8.12"
  }
 },
 "nbformat": 4,
 "nbformat_minor": 2
}
